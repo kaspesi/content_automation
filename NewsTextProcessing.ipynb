{
 "cells": [
  {
   "cell_type": "code",
   "execution_count": 1,
   "id": "d080629e-4e12-46a2-9b01-ed381969807e",
   "metadata": {},
   "outputs": [],
   "source": [
    "from pymongo import MongoClient\n",
    "\n",
    "mdb_client = MongoClient(\n",
    "            host = \"mongodb://localhost:27017/\",\n",
    "            username=\"root\",\n",
    "            password=\"black-TRUANCY-evince-kevin\",\n",
    "        )\n",
    "\n",
    "mdb_client.list_database_names()\n",
    "db_news = mdb_client['news']\n",
    "db_news.list_collection_names()\n",
    "collection_articles = db_news['articles']"
   ]
  },
  {
   "cell_type": "code",
   "execution_count": 2,
   "id": "ca47ab7e-d069-4c16-9b97-b5979fce8846",
   "metadata": {},
   "outputs": [
    {
     "data": {
      "text/plain": [
       "Collection(Database(MongoClient(host=['localhost:27017'], document_class=dict, tz_aware=False, connect=True), 'news'), 'articles')"
      ]
     },
     "execution_count": 2,
     "metadata": {},
     "output_type": "execute_result"
    }
   ],
   "source": [
    "collection_articles"
   ]
  },
  {
   "cell_type": "code",
   "execution_count": 3,
   "id": "814a6ec1-f855-4bd2-b546-d58c93b45282",
   "metadata": {},
   "outputs": [
    {
     "name": "stdout",
     "output_type": "stream",
     "text": [
      "[{'_id': ObjectId('6384e70ca5b2199b6662a7ce'), 'url': 'https://www.axios.com/2022/11/28/buffalo-shooting-guilty-plea', 'title': 'Buffalo shooter pleads guilty to domestic terrorism motivated by hate and other charges', 'chunks': [{'main': 'The white gunman who killed 10 Black people in a racist mass shooting at a Buffalo supermarket in May pleaded guilty to state charges on Monday, including one count of domestic terrorism motivated by hate, according to the Erie County district attorney .', 'bullets': []}, {'main': 'Payton Gendron, 19, faces a mandatory life sentence for perpetrating what the FBI has called a case of racially motivated violent extremism .', 'bullets': []}, {'main': ' The 25-count state court indictment included 10 first-degree murder charges and three counts of attempted murder as a hate crime.', 'bullets': [\"The domestic terrorism count carries life without parole — no maximum or minimum. Gendron had initially pleaded not guilty, but attorneys for victims' families said earlier this month they had been informed that he planned to change his plea and waive his right to appeal.\"]}, {'main': 'Gendron, who was 18 at the time of the shooting, allegedly drove over 200 miles to carry out the attack in the predominantly Black neighborhood. Eleven of the 13 people he shot were Black.', 'bullets': ['The semiautomatic rifle he used had been inscribed with a racial epithet and the number 14, a white supremacist numeric symbol. He also live-streamed the shooting on Twitch for about two minutes, allowing for screenshots that circulated online in the following days.']}, {'main': 'Historically, Black people have been the most targeted group for hate crimes in most cities.', 'bullets': ['Attacks on Black and Asian people drove much of the increase in hate crimes in the 2020 fiscal year, which saw the highest number of reported hate crimes in 20 years, according to the FBI.']}, {'main': 'Gendron has a sentencing hearing for the state charges scheduled for Feb. 15, though he still also faces 27 federal charges — 14 hate crimes charges and 13 firearms charges.', 'bullets': ['\"Gendron\\'s motive for the mass shooting was to prevent Black people from replacing white people and eliminating the white race, and to inspire others to commit similar attacks,\" prosecutors in the U.S. Attorney\\'s Office for the Western District of New York wrote in a June court filing. \"He selected the Tops store because it is where a high percentage and high density of Black people can be found,\\'\" U.S. Attorney General Merrick Garland said at a press conference in June.']}, {'main': 'The New York attorney general\\'s office said in an investigative report last month that Gendron \"was first indoctrinated and radicalized\" through online platforms where he consumed \"explicitly racist, bigoted, and violent content.\"', 'bullets': [\"The case has led to renewed scrutiny over social media platforms' moderation and policy enforcement.\"]}]}]\n"
     ]
    }
   ],
   "source": [
    "articles = []\n",
    "for x in collection_articles.find({}):\n",
    "    articles.append(x)\n",
    "    break\n",
    "print(articles)"
   ]
  },
  {
   "cell_type": "code",
   "execution_count": 4,
   "id": "6e1cefe9-9c64-4a79-a069-bae6b376e787",
   "metadata": {},
   "outputs": [
    {
     "name": "stdout",
     "output_type": "stream",
     "text": [
      "The white gunman who killed 10 Black people in a racist mass shooting at a Buffalo supermarket in May pleaded guilty to state charges on Monday, including one count of domestic terrorism motivated by hate, according to the Erie County district attorney .\n",
      "\n",
      " Payton Gendron, 19, faces a mandatory life sentence for perpetrating what the FBI has called a case of racially motivated violent extremism .\n",
      "\n",
      "  The 25-count state court indictment included 10 first-degree murder charges and three counts of attempted murder as a hate crime.The domestic terrorism count carries life without parole — no maximum or minimum. Gendron had initially pleaded not guilty, but attorneys for victims' families said earlier this month they had been informed that he planned to change his plea and waive his right to appeal.\n",
      "\n",
      " Gendron, who was 18 at the time of the shooting, allegedly drove over 200 miles to carry out the attack in the predominantly Black neighborhood. Eleven of the 13 people he shot were Black.The semiautomatic rifle he used had been inscribed with a racial epithet and the number 14, a white supremacist numeric symbol. He also live-streamed the shooting on Twitch for about two minutes, allowing for screenshots that circulated online in the following days.\n",
      "\n",
      " Historically, Black people have been the most targeted group for hate crimes in most cities.Attacks on Black and Asian people drove much of the increase in hate crimes in the 2020 fiscal year, which saw the highest number of reported hate crimes in 20 years, according to the FBI.\n",
      "\n",
      " Gendron has a sentencing hearing for the state charges scheduled for Feb. 15, though he still also faces 27 federal charges — 14 hate crimes charges and 13 firearms charges.\"Gendron's motive for the mass shooting was to prevent Black people from replacing white people and eliminating the white race, and to inspire others to commit similar attacks,\" prosecutors in the U.S. Attorney's Office for the Western District of New York wrote in a June court filing. \"He selected the Tops store because it is where a high percentage and high density of Black people can be found,'\" U.S. Attorney General Merrick Garland said at a press conference in June.\n",
      "\n",
      " The New York attorney general's office said in an investigative report last month that Gendron \"was first indoctrinated and radicalized\" through online platforms where he consumed \"explicitly racist, bigoted, and violent content.\"The case has led to renewed scrutiny over social media platforms' moderation and policy enforcement.\n",
      "\n",
      "\n"
     ]
    }
   ],
   "source": [
    "from colorama import Fore, Back, Style\n",
    "\n",
    "def get_body(article):\n",
    "    chunks = []\n",
    "    # format_string += Fore.RED + article[\"url\"] + Style.RESET_ALL + \"\\n\"\n",
    "    # format_string += Fore.GREEN + article[\"title\"] + Style.RESET_ALL + \"\\n\"\n",
    "\n",
    "    for chunk in article[\"chunks\"]:\n",
    "        chunk_string = chunk[\"main\"]\n",
    "        for bullet in chunk[\"bullets\"]:\n",
    "            chunk_string += bullet\n",
    "        chunk_string += \"\\n\\n\"\n",
    "        chunks.append(chunk_string)\n",
    "\n",
    "    return chunks\n",
    "    \n",
    "# print(print_article(articles[0]))\n",
    "text_chunks = get_body(articles[0])\n",
    "text_chunk = text_chunks[0]\n",
    "print(\" \".join(text_chunks))"
   ]
  },
  {
   "cell_type": "code",
   "execution_count": 5,
   "id": "d65a498b-d13b-45c0-a0f3-563e1044a915",
   "metadata": {},
   "outputs": [
    {
     "data": {
      "text/plain": [
       "{'The': 1,\n",
       " 'white': 1,\n",
       " 'gunman': 1,\n",
       " 'killed': 1,\n",
       " '10': 1,\n",
       " 'Black': 1,\n",
       " 'people': 1,\n",
       " 'racist': 1,\n",
       " 'mass': 1,\n",
       " 'shooting': 1,\n",
       " 'Buffalo': 1,\n",
       " 'supermarket': 1,\n",
       " 'May': 1,\n",
       " 'pleaded': 1,\n",
       " 'guilty': 1,\n",
       " 'state': 1,\n",
       " 'charges': 1,\n",
       " 'Monday': 1,\n",
       " ',': 2,\n",
       " 'including': 1,\n",
       " 'count': 1,\n",
       " 'domestic': 1,\n",
       " 'terrorism': 1,\n",
       " 'motivated': 1,\n",
       " 'hate': 1,\n",
       " 'according': 1,\n",
       " 'Erie': 1,\n",
       " 'County': 1,\n",
       " 'district': 1,\n",
       " 'attorney': 1,\n",
       " '.': 1,\n",
       " '\\n\\n': 1}"
      ]
     },
     "execution_count": 5,
     "metadata": {},
     "output_type": "execute_result"
    }
   ],
   "source": [
    "import spacy\n",
    "from spacy.lang.en.stop_words import STOP_WORDS\n",
    "from string import punctuation\n",
    "nlp = spacy.load('en_core_web_sm')\n",
    "docx = nlp(text_chunk)\n",
    "mytokens = [token.text for token in docx]\n",
    "stopwords = list(STOP_WORDS)\n",
    "word_frequencies = {}\n",
    "for word in docx:\n",
    "    if word.text not in stopwords:\n",
    "        if word.text not in word_frequencies.keys():\n",
    "            word_frequencies[word.text] = 1\n",
    "        else:\n",
    "            word_frequencies[word.text] += 1\n",
    "word_frequencies"
   ]
  },
  {
   "cell_type": "code",
   "execution_count": 6,
   "id": "7ba99db9-3be2-4856-82a0-5eaaccd1b98d",
   "metadata": {},
   "outputs": [],
   "source": [
    "maximum_frequency = max(word_frequencies.values())\n",
    "for word in word_frequencies.keys():\n",
    "    word_frequencies[word] = (word_frequencies[word]/maximum_frequency)"
   ]
  },
  {
   "cell_type": "code",
   "execution_count": 7,
   "id": "d6176479-b4b1-4026-852b-4d3e11d35608",
   "metadata": {},
   "outputs": [
    {
     "data": {
      "text/plain": [
       "{'The': 0.5,\n",
       " 'white': 0.5,\n",
       " 'gunman': 0.5,\n",
       " 'killed': 0.5,\n",
       " '10': 0.5,\n",
       " 'Black': 0.5,\n",
       " 'people': 0.5,\n",
       " 'racist': 0.5,\n",
       " 'mass': 0.5,\n",
       " 'shooting': 0.5,\n",
       " 'Buffalo': 0.5,\n",
       " 'supermarket': 0.5,\n",
       " 'May': 0.5,\n",
       " 'pleaded': 0.5,\n",
       " 'guilty': 0.5,\n",
       " 'state': 0.5,\n",
       " 'charges': 0.5,\n",
       " 'Monday': 0.5,\n",
       " ',': 1.0,\n",
       " 'including': 0.5,\n",
       " 'count': 0.5,\n",
       " 'domestic': 0.5,\n",
       " 'terrorism': 0.5,\n",
       " 'motivated': 0.5,\n",
       " 'hate': 0.5,\n",
       " 'according': 0.5,\n",
       " 'Erie': 0.5,\n",
       " 'County': 0.5,\n",
       " 'district': 0.5,\n",
       " 'attorney': 0.5,\n",
       " '.': 0.5,\n",
       " '\\n\\n': 0.5}"
      ]
     },
     "execution_count": 7,
     "metadata": {},
     "output_type": "execute_result"
    }
   ],
   "source": [
    "word_frequencies\n"
   ]
  },
  {
   "cell_type": "code",
   "execution_count": 8,
   "id": "f11d2828-8e3d-4002-b831-6a1e33e6c3c3",
   "metadata": {},
   "outputs": [],
   "source": [
    "sentence_list = [ sentence for sentence in docx.sents ]\n",
    "\n"
   ]
  },
  {
   "cell_type": "code",
   "execution_count": 9,
   "id": "4b86a5e9-fa43-4f9e-affc-924a2163ba1c",
   "metadata": {},
   "outputs": [],
   "source": [
    "sentence_scores = {}\n",
    "for sent in sentence_list:\n",
    "    for word in sent:\n",
    "        if word.text.lower() in word_frequencies.keys():\n",
    "            if len(sent.text.split(' ')) < 30:\n",
    "                if sent not in sentence_scores.keys():\n",
    "                    sentence_scores[sent] = word_frequencies[word.text.lower()]\n",
    "                else:\n",
    "                    sentence_scores[sent] += word_frequencies[word.text.lower()]"
   ]
  },
  {
   "cell_type": "code",
   "execution_count": 10,
   "id": "14a39591-2f63-41ca-8748-731639770d81",
   "metadata": {},
   "outputs": [
    {
     "name": "stdout",
     "output_type": "stream",
     "text": [
      "{}\n"
     ]
    }
   ],
   "source": [
    "print (sentence_scores)"
   ]
  },
  {
   "cell_type": "code",
   "execution_count": null,
   "id": "db17b29e-d914-48d0-aba2-3793d359dc8e",
   "metadata": {},
   "outputs": [],
   "source": []
  }
 ],
 "metadata": {
  "kernelspec": {
   "display_name": "Python 3 (ipykernel)",
   "language": "python",
   "name": "python3"
  },
  "language_info": {
   "codemirror_mode": {
    "name": "ipython",
    "version": 3
   },
   "file_extension": ".py",
   "mimetype": "text/x-python",
   "name": "python",
   "nbconvert_exporter": "python",
   "pygments_lexer": "ipython3",
   "version": "3.10.8"
  }
 },
 "nbformat": 4,
 "nbformat_minor": 5
}
